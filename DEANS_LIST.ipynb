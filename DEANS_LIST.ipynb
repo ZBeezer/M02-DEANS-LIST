{
 "cells": [
  {
   "cell_type": "code",
   "execution_count": null,
   "id": "7d8eb4c7-13c3-4b7a-93c0-b5e756f00109",
   "metadata": {},
   "outputs": [],
   "source": [
    "# Zachary Beasley\n",
    "# File Name: DEANS_LIST.py\n",
    "# This app receives the GPA of students and determines whether they make the Dean's List, Honor Roll, or neither.\n",
    "\n",
    "def process_student_records():\n",
    "    while True:\n",
    "        last_name = input(\"Enter the student's last name (Enter 'ZZZ' to quit): \").strip()\n",
    "        if last_name.upper() == 'ZZZ':\n",
    "            break\n",
    "        \n",
    "        first_name = input(\"Enter the student's first name: \").strip()\n",
    "        gpa = float(input(\"Enter the student's GPA: \"))\n",
    "        \n",
    "        if gpa >= 3.5:\n",
    "            print(f\"{first_name} {last_name} has made the Dean's List.\")\n",
    "        elif gpa >= 3.25:\n",
    "            print(f\"{first_name} {last_name} has made the Honor Roll.\")\n",
    "        else:\n",
    "            print(f\"{first_name} {last_name} does not qualify for the Dean's List or the Honor Roll.\")\n",
    "\n",
    "if __name__ == \"__main__\":\n",
    "    process_student_records()\n"
   ]
  }
 ],
 "metadata": {
  "kernelspec": {
   "display_name": "Python 3 (ipykernel)",
   "language": "python",
   "name": "python3"
  },
  "language_info": {
   "codemirror_mode": {
    "name": "ipython",
    "version": 3
   },
   "file_extension": ".py",
   "mimetype": "text/x-python",
   "name": "python",
   "nbconvert_exporter": "python",
   "pygments_lexer": "ipython3",
   "version": "3.11.7"
  }
 },
 "nbformat": 4,
 "nbformat_minor": 5
}
